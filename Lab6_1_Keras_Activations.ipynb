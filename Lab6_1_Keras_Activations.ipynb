{
  "nbformat": 4,
  "nbformat_minor": 0,
  "metadata": {
    "colab": {
      "name": "Lab6_1_Keras-Activations.ipynb",
      "provenance": [],
      "include_colab_link": true
    },
    "kernelspec": {
      "name": "python3",
      "display_name": "Python 3"
    },
    "accelerator": "GPU"
  },
  "cells": [
    {
      "cell_type": "markdown",
      "metadata": {
        "id": "view-in-github",
        "colab_type": "text"
      },
      "source": [
        "<a href=\"https://colab.research.google.com/github/GayathriShrikanth/DeepLearning/blob/master/Lab6_1_Keras_Activations.ipynb\" target=\"_parent\"><img src=\"https://colab.research.google.com/assets/colab-badge.svg\" alt=\"Open In Colab\"/></a>"
      ]
    },
    {
      "cell_type": "markdown",
      "metadata": {
        "id": "VmQKx4diH0vV",
        "colab_type": "text"
      },
      "source": [
        "#Usage of activations\n",
        "\n",
        "Activations can either be used through an Activation layer, or through the activation argument supported by all forward layers:\n",
        "\n",
        "\n",
        "\n",
        "```\n",
        "from keras.layers import Activation, Dense\n",
        "model.add(Dense(64))\n",
        "model.add(Activation('tanh'))\n",
        "```\n",
        "\n",
        "\n",
        "\n",
        "This is equivalent to:\n",
        "\n",
        "```\n",
        "model.add(Dense(64, activation='tanh'))\n",
        "```\n",
        "\n",
        "You can also pass an element-wise TensorFlow/Theano/CNTK function as an activation:\n",
        "\n",
        "```\n",
        "from keras import backend as K\n",
        "model.add(Dense(64, activation=K.tanh))\n",
        "```"
      ]
    },
    {
      "cell_type": "markdown",
      "metadata": {
        "id": "gcMWdTDBIik-",
        "colab_type": "text"
      },
      "source": [
        "#elu\n",
        "\n",
        "keras.activations.elu(x, alpha=1.0)\n",
        "\n",
        "Exponential linear unit.\n",
        "\n",
        "##Arguments\n",
        "\n",
        "1. x: Input tensor.\n",
        "2. alpha: A scalar, slope of negative section.\n",
        "\n",
        "Returns\n",
        "\n",
        "1. The exponential linear activation: x if x > 0 and alpha * (exp(x)-1) if x < 0."
      ]
    },
    {
      "cell_type": "code",
      "metadata": {
        "id": "MFwOV5GJHUoB",
        "colab_type": "code",
        "colab": {}
      },
      "source": [
        "import keras\n",
        "from keras import models\n",
        "from keras.layers import Dense, Dropout\n",
        "from keras.utils import to_categorical\n",
        "from keras.datasets import mnist\n",
        "from keras.utils.vis_utils import model_to_dot\n",
        "from IPython.display import SVG\n",
        "\n",
        "NUM_ROWS = 28\n",
        "NUM_COLS = 28\n",
        "NUM_CLASSES = 10\n",
        "BATCH_SIZE = 128\n",
        "EPOCHS = 10\n",
        "\n",
        "# Load data\n",
        "(X_train, y_train), (X_test, y_test) = mnist.load_data()\n",
        "\n",
        "# Reshape data\n",
        "X_train = X_train.reshape((X_train.shape[0], NUM_ROWS * NUM_COLS))\n",
        "X_train = X_train.astype('float32') / 255\n",
        "X_test = X_test.reshape((X_test.shape[0], NUM_ROWS * NUM_COLS))\n",
        "X_test = X_test.astype('float32') / 255\n",
        "\n",
        "# Categorically encode labels\n",
        "y_train = to_categorical(y_train, NUM_CLASSES)\n",
        "y_test = to_categorical(y_test, NUM_CLASSES)\n",
        "\n",
        "\n",
        "# Build neural network\n",
        "model = models.Sequential()\n",
        "model.add(Dense(512, activation='elu', input_shape=(NUM_ROWS * NUM_COLS,)))\n",
        "model.add(Dense(256, activation='elu'))\n",
        "model.add(Dense(10, activation='softmax'))\n",
        "\n",
        "# Compile model\n",
        "model.compile(optimizer='rmsprop',\n",
        "              loss='categorical_crossentropy',\n",
        "              metrics=['accuracy'])\n",
        "\n",
        "# Train model\n",
        "model.fit(X_train, y_train,\n",
        "          batch_size=BATCH_SIZE,\n",
        "          epochs=EPOCHS,\n",
        "          verbose=1,\n",
        "          validation_data=(X_test, y_test))\n",
        "\n",
        "score = model.evaluate(X_test, y_test, verbose=0)\n",
        "print('Test loss:', score[0])\n",
        "print('Test accuracy:', score[1])"
      ],
      "execution_count": 0,
      "outputs": []
    },
    {
      "cell_type": "markdown",
      "metadata": {
        "id": "gUN3hrzoKAmX",
        "colab_type": "text"
      },
      "source": [
        "#softmax\n",
        "\n",
        "keras.activations.softmax(x, axis=-1)\n",
        "\n",
        "##Softmax activation function.\n",
        "\n",
        "##Arguments\n",
        "\n",
        "1. x: Input tensor.\n",
        "2. axis: Integer, axis along which the softmax normalization is applied.\n",
        "\n",
        "##Returns\n",
        "\n",
        "Tensor, output of softmax transformation.\n",
        "\n",
        "##Raises\n",
        "\n",
        "ValueError: In case dim(x) == 1."
      ]
    },
    {
      "cell_type": "code",
      "metadata": {
        "id": "XOQfshRuKK2k",
        "colab_type": "code",
        "colab": {}
      },
      "source": [
        "# Build neural network\n",
        "model = models.Sequential()\n",
        "model.add(Dense(512, activation='softmax', input_shape=(NUM_ROWS * NUM_COLS,)))\n",
        "model.add(Dense(256, activation='softmax'))\n",
        "model.add(Dense(10, activation='softmax'))\n",
        "\n",
        "# Compile model\n",
        "model.compile(optimizer='rmsprop',\n",
        "              loss='categorical_crossentropy',\n",
        "              metrics=['accuracy'])\n",
        "\n",
        "# Train model\n",
        "model.fit(X_train, y_train,\n",
        "          batch_size=BATCH_SIZE,\n",
        "          epochs=EPOCHS,\n",
        "          verbose=1,\n",
        "          validation_data=(X_test, y_test))\n",
        "\n",
        "score = model.evaluate(X_test, y_test, verbose=0)\n",
        "print('Test loss:', score[0])\n",
        "print('Test accuracy:', score[1])"
      ],
      "execution_count": 0,
      "outputs": []
    },
    {
      "cell_type": "markdown",
      "metadata": {
        "id": "hM19cjk8KTL7",
        "colab_type": "text"
      },
      "source": [
        "#selu\n",
        "\n",
        "keras.activations.selu(x)\n",
        "\n",
        "Scaled Exponential Linear Unit (SELU).\n",
        "\n",
        "SELU is equal to: scale * elu(x, alpha), where alpha and scale are predefined constants. The values of alpha and scale are chosen so that the mean and variance of the inputs are preserved between two consecutive layers as long as the weights are initialized correctly (see lecun_normal initialization) and the number of inputs is \"large enough\" (see references for more information).\n",
        "\n",
        "##Arguments\n",
        "\n",
        "1. x: A tensor or variable to compute the activation function for.\n",
        "\n",
        "##Returns\n",
        "\n",
        "The scaled exponential unit activation: scale * elu(x, alpha).\n",
        "\n",
        "##Note\n",
        "\n",
        "1. To be used together with the initialization \"lecun_normal\".\n",
        "2. To be used together with the dropout variant \"AlphaDropout\"."
      ]
    },
    {
      "cell_type": "code",
      "metadata": {
        "id": "tqueXLpaKddp",
        "colab_type": "code",
        "colab": {}
      },
      "source": [
        "# Build neural network\n",
        "model = models.Sequential()\n",
        "model.add(Dense(512, activation='selu', input_shape=(NUM_ROWS * NUM_COLS,)))\n",
        "model.add(Dense(256, activation='selu'))\n",
        "model.add(Dense(10, activation='softmax'))\n",
        "\n",
        "# Compile model\n",
        "model.compile(optimizer='rmsprop',\n",
        "              loss='categorical_crossentropy',\n",
        "              metrics=['accuracy'])\n",
        "\n",
        "# Train model\n",
        "model.fit(X_train, y_train,\n",
        "          batch_size=BATCH_SIZE,\n",
        "          epochs=EPOCHS,\n",
        "          verbose=1,\n",
        "          validation_data=(X_test, y_test))\n",
        "\n",
        "score = model.evaluate(X_test, y_test, verbose=0)\n",
        "print('Test loss:', score[0])\n",
        "print('Test accuracy:', score[1])"
      ],
      "execution_count": 0,
      "outputs": []
    },
    {
      "cell_type": "markdown",
      "metadata": {
        "id": "8jh93vQKKjws",
        "colab_type": "text"
      },
      "source": [
        "#softplus\n",
        "\n",
        "keras.activations.softplus(x)\n",
        "\n",
        "Softplus activation function.\n",
        "\n",
        "##Arguments\n",
        "\n",
        "1. x: Input tensor.\n",
        "\n",
        "##Returns\n",
        "\n",
        "1. The softplus activation: log(exp(x) + 1)."
      ]
    },
    {
      "cell_type": "code",
      "metadata": {
        "id": "msVEMJUtKwTC",
        "colab_type": "code",
        "colab": {}
      },
      "source": [
        "# Build neural network\n",
        "model = models.Sequential()\n",
        "model.add(Dense(512, activation='softplus', input_shape=(NUM_ROWS * NUM_COLS,)))\n",
        "model.add(Dense(256, activation='softplus'))\n",
        "model.add(Dense(10, activation='softmax'))\n",
        "\n",
        "# Compile model\n",
        "model.compile(optimizer='rmsprop',\n",
        "              loss='categorical_crossentropy',\n",
        "              metrics=['accuracy'])\n",
        "\n",
        "# Train model\n",
        "model.fit(X_train, y_train,\n",
        "          batch_size=BATCH_SIZE,\n",
        "          epochs=EPOCHS,\n",
        "          verbose=1,\n",
        "          validation_data=(X_test, y_test))\n",
        "\n",
        "score = model.evaluate(X_test, y_test, verbose=0)\n",
        "print('Test loss:', score[0])\n",
        "print('Test accuracy:', score[1])"
      ],
      "execution_count": 0,
      "outputs": []
    },
    {
      "cell_type": "markdown",
      "metadata": {
        "id": "5us_flAJK4lP",
        "colab_type": "text"
      },
      "source": [
        "#softsign\n",
        "\n",
        "keras.activations.softsign(x)\n",
        "\n",
        "##Softsign activation function.\n",
        "\n",
        "##Arguments\n",
        "\n",
        "1. x: Input tensor.\n",
        "\n",
        "##Returns\n",
        "\n",
        "1. The softsign activation: x / (abs(x) + 1)."
      ]
    },
    {
      "cell_type": "code",
      "metadata": {
        "id": "YxsE4bDzK_Wo",
        "colab_type": "code",
        "colab": {}
      },
      "source": [
        "# Build neural network\n",
        "model = models.Sequential()\n",
        "model.add(Dense(512, activation='softsign', input_shape=(NUM_ROWS * NUM_COLS,)))\n",
        "model.add(Dense(256, activation='softsign'))\n",
        "model.add(Dense(10, activation='softmax'))\n",
        "\n",
        "# Compile model\n",
        "model.compile(optimizer='rmsprop',\n",
        "              loss='categorical_crossentropy',\n",
        "              metrics=['accuracy'])\n",
        "\n",
        "# Train model\n",
        "model.fit(X_train, y_train,\n",
        "          batch_size=BATCH_SIZE,\n",
        "          epochs=EPOCHS,\n",
        "          verbose=1,\n",
        "          validation_data=(X_test, y_test))\n",
        "\n",
        "score = model.evaluate(X_test, y_test, verbose=0)\n",
        "print('Test loss:', score[0])\n",
        "print('Test accuracy:', score[1])"
      ],
      "execution_count": 0,
      "outputs": []
    },
    {
      "cell_type": "markdown",
      "metadata": {
        "id": "q1frWDGbLIPD",
        "colab_type": "text"
      },
      "source": [
        "#relu\n",
        "\n",
        "keras.activations.relu(x, alpha=0.0, max_value=None, threshold=0.0)\n",
        "\n",
        "##Rectified Linear Unit.\n",
        "\n",
        "With default values, it returns element-wise max(x, 0).\n",
        "\n",
        "Otherwise, it follows: f(x) = max_value for x >= max_value, f(x) = x for threshold <= x < max_value, f(x) = alpha * (x - threshold) otherwise.\n",
        "\n",
        "##Arguments\n",
        "\n",
        "1. x: Input tensor.\n",
        "2. alpha: float. Slope of the negative part. Defaults to zero.\n",
        "3. max_value: float. Saturation threshold.\n",
        "4. threshold: float. Threshold value for thresholded activation.\n",
        "\n",
        "##Returns\n",
        "\n",
        "A tensor."
      ]
    },
    {
      "cell_type": "code",
      "metadata": {
        "id": "W-yB_H-6LEmI",
        "colab_type": "code",
        "colab": {}
      },
      "source": [
        "# Build neural network\n",
        "model = models.Sequential()\n",
        "model.add(Dense(512, activation='relu', input_shape=(NUM_ROWS * NUM_COLS,)))\n",
        "model.add(Dense(256, activation='relu'))\n",
        "model.add(Dense(10, activation='softmax'))\n",
        "\n",
        "# Compile model\n",
        "model.compile(optimizer='rmsprop',\n",
        "              loss='categorical_crossentropy',\n",
        "              metrics=['accuracy'])\n",
        "\n",
        "# Train model\n",
        "model.fit(X_train, y_train,\n",
        "          batch_size=BATCH_SIZE,\n",
        "          epochs=EPOCHS,\n",
        "          verbose=1,\n",
        "          validation_data=(X_test, y_test))\n",
        "\n",
        "score = model.evaluate(X_test, y_test, verbose=0)\n",
        "print('Test loss:', score[0])\n",
        "print('Test accuracy:', score[1])"
      ],
      "execution_count": 0,
      "outputs": []
    },
    {
      "cell_type": "markdown",
      "metadata": {
        "id": "qb6436cKLXyP",
        "colab_type": "text"
      },
      "source": [
        "#tanh\n",
        "\n",
        "keras.activations.tanh(x)\n",
        "\n",
        "##Hyperbolic tangent activation function.\n",
        "\n",
        "##Arguments\n",
        "\n",
        "1. x: Input tensor.\n",
        "\n",
        "##Returns\n",
        "\n",
        "1. The hyperbolic activation: tanh(x) = (exp(x) - exp(-x)) / (exp(x) + exp(-x))"
      ]
    },
    {
      "cell_type": "code",
      "metadata": {
        "id": "2l_JVgdfLd_E",
        "colab_type": "code",
        "colab": {}
      },
      "source": [
        "# Build neural network\n",
        "model = models.Sequential()\n",
        "model.add(Dense(512, activation='tanh', input_shape=(NUM_ROWS * NUM_COLS,)))\n",
        "model.add(Dense(256, activation='tanh'))\n",
        "model.add(Dense(10, activation='softmax'))\n",
        "\n",
        "# Compile model\n",
        "model.compile(optimizer='rmsprop',\n",
        "              loss='categorical_crossentropy',\n",
        "              metrics=['accuracy'])\n",
        "\n",
        "# Train model\n",
        "model.fit(X_train, y_train,\n",
        "          batch_size=BATCH_SIZE,\n",
        "          epochs=EPOCHS,\n",
        "          verbose=1,\n",
        "          validation_data=(X_test, y_test))\n",
        "\n",
        "score = model.evaluate(X_test, y_test, verbose=0)\n",
        "print('Test loss:', score[0])\n",
        "print('Test accuracy:', score[1])"
      ],
      "execution_count": 0,
      "outputs": []
    },
    {
      "cell_type": "markdown",
      "metadata": {
        "id": "JwPdvFC3LmME",
        "colab_type": "text"
      },
      "source": [
        "#sigmoid\n",
        "\n",
        "keras.activations.sigmoid(x)\n",
        "\n",
        "##Sigmoid activation function.\n",
        "\n",
        "##Arguments\n",
        "\n",
        "1. x: Input tensor.\n",
        "\n",
        "##Returns\n",
        "\n",
        "1. The sigmoid activation: 1 / (1 + exp(-x))."
      ]
    },
    {
      "cell_type": "code",
      "metadata": {
        "id": "chkhKBK4LtS9",
        "colab_type": "code",
        "colab": {}
      },
      "source": [
        "# Build neural network\n",
        "model = models.Sequential()\n",
        "model.add(Dense(512, activation='sigmoid', input_shape=(NUM_ROWS * NUM_COLS,)))\n",
        "model.add(Dense(256, activation='sigmoid'))\n",
        "model.add(Dense(10, activation='softmax'))\n",
        "\n",
        "# Compile model\n",
        "model.compile(optimizer='rmsprop',\n",
        "              loss='categorical_crossentropy',\n",
        "              metrics=['accuracy'])\n",
        "\n",
        "# Train model\n",
        "model.fit(X_train, y_train,\n",
        "          batch_size=BATCH_SIZE,\n",
        "          epochs=EPOCHS,\n",
        "          verbose=1,\n",
        "          validation_data=(X_test, y_test))\n",
        "\n",
        "score = model.evaluate(X_test, y_test, verbose=0)\n",
        "print('Test loss:', score[0])\n",
        "print('Test accuracy:', score[1])"
      ],
      "execution_count": 0,
      "outputs": []
    },
    {
      "cell_type": "markdown",
      "metadata": {
        "id": "FDSa6h2iL016",
        "colab_type": "text"
      },
      "source": [
        "#hard_sigmoid\n",
        "\n",
        "keras.activations.hard_sigmoid(x)\n",
        "\n",
        "##Hard sigmoid activation function.\n",
        "\n",
        "Faster to compute than sigmoid activation.\n",
        "\n",
        "##Arguments\n",
        "\n",
        "1. x: Input tensor.\n",
        "\n",
        "##Returns\n",
        "\n",
        "1. Hard sigmoid activation:\n",
        "\n",
        "```\n",
        "0 if x < -2.5\n",
        "1 if x > 2.5\n",
        "0.2 * x + 0.5 if -2.5 <= x <= 2.5.\n",
        "```"
      ]
    },
    {
      "cell_type": "code",
      "metadata": {
        "id": "VPIE0vA2MIY0",
        "colab_type": "code",
        "colab": {}
      },
      "source": [
        "# Build neural network\n",
        "model = models.Sequential()\n",
        "model.add(Dense(512, activation='hard_sigmoid', input_shape=(NUM_ROWS * NUM_COLS,)))\n",
        "model.add(Dense(256, activation='hard_sigmoid'))\n",
        "model.add(Dense(10, activation='softmax'))\n",
        "\n",
        "# Compile model\n",
        "model.compile(optimizer='rmsprop',\n",
        "              loss='categorical_crossentropy',\n",
        "              metrics=['accuracy'])\n",
        "\n",
        "# Train model\n",
        "model.fit(X_train, y_train,\n",
        "          batch_size=BATCH_SIZE,\n",
        "          epochs=EPOCHS,\n",
        "          verbose=1,\n",
        "          validation_data=(X_test, y_test))\n",
        "\n",
        "score = model.evaluate(X_test, y_test, verbose=0)\n",
        "print('Test loss:', score[0])\n",
        "print('Test accuracy:', score[1])"
      ],
      "execution_count": 0,
      "outputs": []
    },
    {
      "cell_type": "markdown",
      "metadata": {
        "id": "nkEibscrMTJ7",
        "colab_type": "text"
      },
      "source": [
        "#exponential\n",
        "\n",
        "keras.activations.exponential(x)\n",
        "\n",
        "Exponential (base e) activation function.\n",
        "\n",
        "##Arguments\n",
        "\n",
        "1. x: Input tensor.\n",
        "\n",
        "##Returns\n",
        "\n",
        "1. Exponential activation: exp(x)."
      ]
    },
    {
      "cell_type": "code",
      "metadata": {
        "id": "Z03_Vua1MY82",
        "colab_type": "code",
        "colab": {}
      },
      "source": [
        "# Build neural network\n",
        "model = models.Sequential()\n",
        "model.add(Dense(512, activation='exponential', input_shape=(NUM_ROWS * NUM_COLS,)))\n",
        "model.add(Dense(256, activation='exponential'))\n",
        "model.add(Dense(10, activation='softmax'))\n",
        "\n",
        "# Compile model\n",
        "model.compile(optimizer='rmsprop',\n",
        "              loss='categorical_crossentropy',\n",
        "              metrics=['accuracy'])\n",
        "\n",
        "# Train model\n",
        "model.fit(X_train, y_train,\n",
        "          batch_size=BATCH_SIZE,\n",
        "          epochs=EPOCHS,\n",
        "          verbose=1,\n",
        "          validation_data=(X_test, y_test))\n",
        "\n",
        "score = model.evaluate(X_test, y_test, verbose=0)\n",
        "print('Test loss:', score[0])\n",
        "print('Test accuracy:', score[1])"
      ],
      "execution_count": 0,
      "outputs": []
    },
    {
      "cell_type": "markdown",
      "metadata": {
        "id": "twHrIcibMfqj",
        "colab_type": "text"
      },
      "source": [
        "#linear\n",
        "\n",
        "keras.activations.linear(x)\n",
        "\n",
        "Linear (i.e. identity) activation function.\n",
        "\n",
        "##Arguments\n",
        "\n",
        "1. x: Input tensor.\n",
        "\n",
        "##Returns\n",
        "\n",
        "Input tensor, unchanged."
      ]
    },
    {
      "cell_type": "code",
      "metadata": {
        "id": "X4yIoO3RMk-n",
        "colab_type": "code",
        "colab": {}
      },
      "source": [
        "# Build neural network\n",
        "model = models.Sequential()\n",
        "model.add(Dense(512, activation='linear', input_shape=(NUM_ROWS * NUM_COLS,)))\n",
        "model.add(Dense(256, activation='linear'))\n",
        "model.add(Dense(10, activation='softmax'))\n",
        "\n",
        "# Compile model\n",
        "model.compile(optimizer='rmsprop',\n",
        "              loss='categorical_crossentropy',\n",
        "              metrics=['accuracy'])\n",
        "\n",
        "# Train model\n",
        "model.fit(X_train, y_train,\n",
        "          batch_size=BATCH_SIZE,\n",
        "          epochs=EPOCHS,\n",
        "          verbose=1,\n",
        "          validation_data=(X_test, y_test))\n",
        "\n",
        "score = model.evaluate(X_test, y_test, verbose=0)\n",
        "print('Test loss:', score[0])\n",
        "print('Test accuracy:', score[1])"
      ],
      "execution_count": 0,
      "outputs": []
    },
    {
      "cell_type": "markdown",
      "metadata": {
        "id": "1OyPjtogMtdG",
        "colab_type": "text"
      },
      "source": [
        "#LeakyReLU\n",
        "\n",
        "keras.layers.LeakyReLU(alpha=0.3)\n",
        "\n",
        "Leaky version of a Rectified Linear Unit.\n",
        "\n",
        "It allows a small gradient when the unit is not active: \n",
        "```\n",
        "f(x) = alpha * x for x < 0\n",
        "f(x) = x for x >= 0.\n",
        "```\n",
        "\n",
        "##Input shape\n",
        "\n",
        "Arbitrary. Use the keyword argument input_shape (tuple of integers, does not include the samples axis) when using this layer as the first layer in a model.\n",
        "\n",
        "##Output shape\n",
        "\n",
        "Same shape as the input.\n",
        "\n",
        "##Arguments\n",
        "\n",
        "alpha: float >= 0. Negative slope coefficient."
      ]
    },
    {
      "cell_type": "code",
      "metadata": {
        "id": "erjq0UrxNRum",
        "colab_type": "code",
        "colab": {}
      },
      "source": [
        "# Build neural network\n",
        "model = models.Sequential()\n",
        "model.add(Dense(512, activation=keras.layers.LeakyReLU(alpha=0.3), input_shape=(NUM_ROWS * NUM_COLS,)))\n",
        "model.add(Dense(256, activation=keras.layers.LeakyReLU(alpha=0.3)))\n",
        "model.add(Dense(10, activation='softmax'))\n",
        "\n",
        "# Compile model\n",
        "model.compile(optimizer='rmsprop',\n",
        "              loss='categorical_crossentropy',\n",
        "              metrics=['accuracy'])\n",
        "\n",
        "# Train model\n",
        "model.fit(X_train, y_train,\n",
        "          batch_size=BATCH_SIZE,\n",
        "          epochs=EPOCHS,\n",
        "          verbose=1,\n",
        "          validation_data=(X_test, y_test))\n",
        "\n",
        "score = model.evaluate(X_test, y_test, verbose=0)\n",
        "print('Test loss:', score[0])\n",
        "print('Test accuracy:', score[1])"
      ],
      "execution_count": 0,
      "outputs": []
    },
    {
      "cell_type": "markdown",
      "metadata": {
        "id": "wcJBHILnNv8k",
        "colab_type": "text"
      },
      "source": [
        "#PReLU\n",
        "\n",
        "keras.layers.PReLU(alpha_initializer='zeros', alpha_regularizer=None, alpha_constraint=None, shared_axes=None)\n",
        "\n",
        "Parametric Rectified Linear Unit.\n",
        "\n",
        "It follows: f(x) = alpha * x for x < 0, f(x) = x for x >= 0, where alpha is a learned array with the same shape as x.\n",
        "\n",
        "##Input shape\n",
        "\n",
        "Arbitrary. Use the keyword argument input_shape (tuple of integers, does not include the samples axis) when using this layer as the first layer in a model.\n",
        "\n",
        "##Output shape\n",
        "\n",
        "Same shape as the input.\n",
        "\n",
        "##Arguments\n",
        "\n",
        "1. alpha_initializer: initializer function for the weights.\n",
        "2. alpha_regularizer: regularizer for the weights.\n",
        "3. alpha_constraint: constraint for the weights.\n",
        "4. shared_axes: the axes along which to share learnable parameters for the activation function. For example, if the incoming feature maps are from a 2D convolution with output shape (batch, height, width, channels), and you wish to share parameters across space so that each filter only has one set of parameters, set shared_axes=[1, 2]."
      ]
    },
    {
      "cell_type": "code",
      "metadata": {
        "id": "9sMj5qFNN7Xv",
        "colab_type": "code",
        "colab": {}
      },
      "source": [
        "# Build neural network\n",
        "model = models.Sequential()\n",
        "model.add(Dense(512, activation=keras.layers.PReLU(alpha_initializer='zeros', alpha_regularizer=None, alpha_constraint=None, shared_axes=None)\n",
        ", input_shape=(NUM_ROWS * NUM_COLS,)))\n",
        "model.add(Dense(256, activation=keras.layers.PReLU(alpha_initializer='zeros', alpha_regularizer=None, alpha_constraint=None, shared_axes=None)\n",
        "))\n",
        "model.add(Dense(10, activation='softmax'))\n",
        "\n",
        "# Compile model\n",
        "model.compile(optimizer='rmsprop',\n",
        "              loss='categorical_crossentropy',\n",
        "              metrics=['accuracy'])\n",
        "\n",
        "# Train model\n",
        "model.fit(X_train, y_train,\n",
        "          batch_size=BATCH_SIZE,\n",
        "          epochs=EPOCHS,\n",
        "          verbose=1,\n",
        "          validation_data=(X_test, y_test))\n",
        "\n",
        "score = model.evaluate(X_test, y_test, verbose=0)\n",
        "print('Test loss:', score[0])\n",
        "print('Test accuracy:', score[1])"
      ],
      "execution_count": 0,
      "outputs": []
    },
    {
      "cell_type": "markdown",
      "metadata": {
        "id": "5hZFbSZYOSCi",
        "colab_type": "text"
      },
      "source": [
        "#ELU\n",
        "\n",
        "keras.layers.ELU(alpha=1.0)\n",
        "\n",
        "Exponential Linear Unit.\n",
        "\n",
        "It follows: f(x) =  alpha * (exp(x) - 1.) for x < 0, f(x) = x for x >= 0.\n",
        "\n",
        "##Input shape\n",
        "\n",
        "Arbitrary. Use the keyword argument input_shape (tuple of integers, does not include the samples axis) when using this layer as the first layer in a model.\n",
        "\n",
        "##Output shape\n",
        "\n",
        "Same shape as the input.\n",
        "\n",
        "##Arguments\n",
        "\n",
        "1. alpha: scale for the negative factor."
      ]
    },
    {
      "cell_type": "code",
      "metadata": {
        "id": "rV_7KHrmOZEV",
        "colab_type": "code",
        "colab": {}
      },
      "source": [
        "# Build neural network\n",
        "model = models.Sequential()\n",
        "model.add(Dense(512, activation=keras.layers.ELU(alpha=1.0), input_shape=(NUM_ROWS * NUM_COLS,)))\n",
        "model.add(Dense(256, activation=keras.layers.ELU(alpha=1.0)))\n",
        "model.add(Dense(10, activation='softmax'))\n",
        "\n",
        "# Compile model\n",
        "model.compile(optimizer='rmsprop',\n",
        "              loss='categorical_crossentropy',\n",
        "              metrics=['accuracy'])\n",
        "\n",
        "# Train model\n",
        "model.fit(X_train, y_train,\n",
        "          batch_size=BATCH_SIZE,\n",
        "          epochs=EPOCHS,\n",
        "          verbose=1,\n",
        "          validation_data=(X_test, y_test))\n",
        "\n",
        "score = model.evaluate(X_test, y_test, verbose=0)\n",
        "print('Test loss:', score[0])\n",
        "print('Test accuracy:', score[1])"
      ],
      "execution_count": 0,
      "outputs": []
    },
    {
      "cell_type": "markdown",
      "metadata": {
        "id": "mMMit6nZOlXi",
        "colab_type": "text"
      },
      "source": [
        "#ThresholdedReLU\n",
        "\n",
        "keras.layers.ThresholdedReLU(theta=1.0)\n",
        "\n",
        "Thresholded Rectified Linear Unit.\n",
        "\n",
        "It follows: f(x) = x for x > theta, f(x) = 0 otherwise.\n",
        "\n",
        "##Input shape\n",
        "\n",
        "Arbitrary. Use the keyword argument input_shape (tuple of integers, does not include the samples axis) when using this layer as the first layer in a model.\n",
        "\n",
        "##Output shape\n",
        "\n",
        "Same shape as the input.\n",
        "\n",
        "##Arguments\n",
        "\n",
        "1. theta: float >= 0. Threshold location of activation."
      ]
    },
    {
      "cell_type": "code",
      "metadata": {
        "id": "jtN3bUOOOqN0",
        "colab_type": "code",
        "colab": {}
      },
      "source": [
        "# Build neural network\n",
        "model = models.Sequential()\n",
        "model.add(Dense(512, activation=keras.layers.ThresholdedReLU(theta=1.0), input_shape=(NUM_ROWS * NUM_COLS,)))\n",
        "model.add(Dense(256, activation=keras.layers.ThresholdedReLU(theta=1.0)))\n",
        "model.add(Dense(10, activation='softmax'))\n",
        "\n",
        "# Compile model\n",
        "model.compile(optimizer='rmsprop',\n",
        "              loss='categorical_crossentropy',\n",
        "              metrics=['accuracy'])\n",
        "\n",
        "# Train model\n",
        "model.fit(X_train, y_train,\n",
        "          batch_size=BATCH_SIZE,\n",
        "          epochs=EPOCHS,\n",
        "          verbose=1,\n",
        "          validation_data=(X_test, y_test))\n",
        "\n",
        "score = model.evaluate(X_test, y_test, verbose=0)\n",
        "print('Test loss:', score[0])\n",
        "print('Test accuracy:', score[1])"
      ],
      "execution_count": 0,
      "outputs": []
    },
    {
      "cell_type": "markdown",
      "metadata": {
        "id": "ZHf3ajyEOy7R",
        "colab_type": "text"
      },
      "source": [
        "#Softmax\n",
        "\n",
        "keras.layers.Softmax(axis=-1)\n",
        "\n",
        "Softmax activation function.\n",
        "\n",
        "##Input shape\n",
        "\n",
        "Arbitrary. Use the keyword argument input_shape (tuple of integers, does not include the samples axis) when using this layer as the first layer in a model.\n",
        "\n",
        "##Output shape\n",
        "\n",
        "Same shape as the input.\n",
        "\n",
        "##Arguments\n",
        "\n",
        "1. axis: Integer, axis along which the softmax normalization is applied."
      ]
    },
    {
      "cell_type": "code",
      "metadata": {
        "id": "mSzMbFfGO600",
        "colab_type": "code",
        "colab": {}
      },
      "source": [
        "# Build neural network\n",
        "model = models.Sequential()\n",
        "model.add(Dense(512, activation=keras.layers.Softmax(axis=-1), input_shape=(NUM_ROWS * NUM_COLS,)))\n",
        "model.add(Dense(256, activation=keras.layers.Softmax(axis=-1)))\n",
        "model.add(Dense(10, activation='softmax'))\n",
        "\n",
        "# Compile model\n",
        "model.compile(optimizer='rmsprop',\n",
        "              loss='categorical_crossentropy',\n",
        "              metrics=['accuracy'])\n",
        "\n",
        "# Train model\n",
        "model.fit(X_train, y_train,\n",
        "          batch_size=BATCH_SIZE,\n",
        "          epochs=EPOCHS,\n",
        "          verbose=1,\n",
        "          validation_data=(X_test, y_test))\n",
        "\n",
        "score = model.evaluate(X_test, y_test, verbose=0)\n",
        "print('Test loss:', score[0])\n",
        "print('Test accuracy:', score[1])"
      ],
      "execution_count": 0,
      "outputs": []
    },
    {
      "cell_type": "markdown",
      "metadata": {
        "id": "oCbXH5M2PCwO",
        "colab_type": "text"
      },
      "source": [
        "#ReLU\n",
        "\n",
        "keras.layers.ReLU(max_value=None, negative_slope=0.0, threshold=0.0)\n",
        "\n",
        "Rectified Linear Unit activation function.\n",
        "\n",
        "With default values, it returns element-wise max(x, 0).\n",
        "\n",
        "Otherwise, it follows: f(x) = max_value for x >= max_value, f(x) = x for threshold <= x < max_value, f(x) = negative_slope * (x - threshold) otherwise.\n",
        "\n",
        "##Input shape\n",
        "\n",
        "Arbitrary. Use the keyword argument input_shape (tuple of integers, does not include the samples axis) when using this layer as the first layer in a model.\n",
        "\n",
        "##Output shape\n",
        "\n",
        "Same shape as the input.\n",
        "\n",
        "##Arguments\n",
        "\n",
        "1. max_value: float >= 0. Maximum activation value.\n",
        "2. negative_slope: float >= 0. Negative slope coefficient.\n",
        "3. threshold: float. Threshold value for thresholded activation."
      ]
    },
    {
      "cell_type": "code",
      "metadata": {
        "id": "KMee8FeqPK2N",
        "colab_type": "code",
        "colab": {}
      },
      "source": [
        "# Build neural network\n",
        "model = models.Sequential()\n",
        "model.add(Dense(512, activation=keras.layers.ReLU(max_value=None, negative_slope=0.0, threshold=0.0)\n",
        ", input_shape=(NUM_ROWS * NUM_COLS,)))\n",
        "model.add(Dense(256, activation=keras.layers.ReLU(max_value=None, negative_slope=0.0, threshold=0.0)\n",
        "))\n",
        "model.add(Dense(10, activation='softmax'))\n",
        "\n",
        "# Compile model\n",
        "model.compile(optimizer='rmsprop',\n",
        "              loss='categorical_crossentropy',\n",
        "              metrics=['accuracy'])\n",
        "\n",
        "# Train model\n",
        "model.fit(X_train, y_train,\n",
        "          batch_size=BATCH_SIZE,\n",
        "          epochs=EPOCHS,\n",
        "          verbose=1,\n",
        "          validation_data=(X_test, y_test))\n",
        "\n",
        "score = model.evaluate(X_test, y_test, verbose=0)\n",
        "print('Test loss:', score[0])\n",
        "print('Test accuracy:', score[1])"
      ],
      "execution_count": 0,
      "outputs": []
    },
    {
      "cell_type": "markdown",
      "metadata": {
        "id": "Iw_XEgUlPU04",
        "colab_type": "text"
      },
      "source": [
        "#Thank you for completing this notebook"
      ]
    },
    {
      "cell_type": "markdown",
      "metadata": {
        "id": "UuuBSE9cVqC4",
        "colab_type": "text"
      },
      "source": [
        "ReLU is the best activation with maximum accuracy of 98.29% and loss 0.0920575719"
      ]
    },
    {
      "cell_type": "markdown",
      "metadata": {
        "id": "HSEcxw7cV4QD",
        "colab_type": "text"
      },
      "source": [
        "Fasion MNIST"
      ]
    },
    {
      "cell_type": "code",
      "metadata": {
        "id": "U3F8Zt4jV7SX",
        "colab_type": "code",
        "outputId": "5474ce1a-8e83-41a3-dbef-db5b0682ce15",
        "colab": {
          "base_uri": "https://localhost:8080/",
          "height": 624
        }
      },
      "source": [
        "from keras import models\n",
        "from keras.layers import Dense, Dropout\n",
        "from keras.utils import to_categorical\n",
        "from keras.datasets import fashion_mnist\n",
        "from keras.utils.vis_utils import model_to_dot\n",
        "from IPython.display import SVG\n",
        "from keras.layers import Activation, Flatten, Conv2D\n",
        "\n",
        "NUM_ROWS = 28\n",
        "NUM_COLS = 28\n",
        "NUM_CLASSES = 10\n",
        "BATCH_SIZE = 128\n",
        "EPOCHS = 10\n",
        "\n",
        "# Load data\n",
        "(X_train, y_train), (X_test, y_test) = fashion_mnist.load_data()\n",
        "\n",
        "# Reshape data\n",
        "X_train = X_train.reshape((X_train.shape[0], 28, 28, 1))\n",
        "X_train = X_train.astype('float32') / 255\n",
        "X_test = X_test.reshape((X_test.shape[0], 28, 28, 1))\n",
        "X_test = X_test.astype('float32') / 255\n",
        "\n",
        "\n",
        "\n",
        "# Categorically encode labels\n",
        "y_train = to_categorical(y_train, NUM_CLASSES)\n",
        "y_test = to_categorical(y_test, NUM_CLASSES)\n",
        "\n",
        "# Build neural network\n",
        "model = models.Sequential()\n",
        "model.add(Conv2D(512, (28, 28), padding=\"valid\", activation=keras.layers.ReLU(max_value=None, negative_slope=0.0, threshold=0.0), input_shape=X_train.shape[1:]))\n",
        "model.add(Flatten())\n",
        "model.add(Dense(512, activation=keras.layers.ReLU(max_value=None, negative_slope=0.0, threshold=0.0)\n",
        ", input_shape=(NUM_ROWS * NUM_COLS,)))\n",
        "model.add(Dense(256, activation=keras.layers.ReLU(max_value=None, negative_slope=0.0, threshold=0.0)\n",
        "))\n",
        "model.add(Dense(10, activation='softmax'))\n",
        "\n",
        "# Compile model\n",
        "model.compile(optimizer='rmsprop',\n",
        "              loss='categorical_crossentropy',\n",
        "              metrics=['accuracy'])\n",
        "\n",
        "# Train model\n",
        "model.fit(X_train, y_train,\n",
        "          batch_size=BATCH_SIZE,\n",
        "          epochs=EPOCHS,\n",
        "          verbose=1,\n",
        "          validation_data=(X_test, y_test))\n",
        "\n",
        "score = model.evaluate(X_test, y_test, verbose=0)\n",
        "print('Test loss:', score[0])\n",
        "print('Test accuracy:', score[1])"
      ],
      "execution_count": 0,
      "outputs": [
        {
          "output_type": "stream",
          "text": [
            "Downloading data from http://fashion-mnist.s3-website.eu-central-1.amazonaws.com/train-labels-idx1-ubyte.gz\n",
            "32768/29515 [=================================] - 0s 0us/step\n",
            "Downloading data from http://fashion-mnist.s3-website.eu-central-1.amazonaws.com/train-images-idx3-ubyte.gz\n",
            "26427392/26421880 [==============================] - 0s 0us/step\n",
            "Downloading data from http://fashion-mnist.s3-website.eu-central-1.amazonaws.com/t10k-labels-idx1-ubyte.gz\n",
            "8192/5148 [===============================================] - 0s 0us/step\n",
            "Downloading data from http://fashion-mnist.s3-website.eu-central-1.amazonaws.com/t10k-images-idx3-ubyte.gz\n",
            "4423680/4422102 [==============================] - 0s 0us/step\n"
          ],
          "name": "stdout"
        },
        {
          "output_type": "stream",
          "text": [
            "/usr/local/lib/python3.6/dist-packages/keras/activations.py:235: UserWarning: Do not pass a layer instance (such as ReLU) as the activation argument of another layer. Instead, advanced activation layers should be used just like any other layer in a model.\n",
            "  identifier=identifier.__class__.__name__))\n"
          ],
          "name": "stderr"
        },
        {
          "output_type": "stream",
          "text": [
            "Train on 60000 samples, validate on 10000 samples\n",
            "Epoch 1/10\n",
            "60000/60000 [==============================] - 9s 145us/step - loss: 0.5957 - acc: 0.7789 - val_loss: 0.4280 - val_acc: 0.8430\n",
            "Epoch 2/10\n",
            "60000/60000 [==============================] - 2s 38us/step - loss: 0.3980 - acc: 0.8527 - val_loss: 0.3935 - val_acc: 0.8597\n",
            "Epoch 3/10\n",
            "60000/60000 [==============================] - 2s 38us/step - loss: 0.3531 - acc: 0.8686 - val_loss: 0.3682 - val_acc: 0.8668\n",
            "Epoch 4/10\n",
            "60000/60000 [==============================] - 2s 38us/step - loss: 0.3270 - acc: 0.8811 - val_loss: 0.3580 - val_acc: 0.8758\n",
            "Epoch 5/10\n",
            "60000/60000 [==============================] - 2s 38us/step - loss: 0.3088 - acc: 0.8869 - val_loss: 0.3733 - val_acc: 0.8649\n",
            "Epoch 6/10\n",
            "60000/60000 [==============================] - 3s 42us/step - loss: 0.2960 - acc: 0.8907 - val_loss: 0.3986 - val_acc: 0.8635\n",
            "Epoch 7/10\n",
            "60000/60000 [==============================] - 2s 36us/step - loss: 0.2885 - acc: 0.8938 - val_loss: 0.3569 - val_acc: 0.8796\n",
            "Epoch 8/10\n",
            "60000/60000 [==============================] - 2s 38us/step - loss: 0.2779 - acc: 0.8975 - val_loss: 0.4331 - val_acc: 0.8650\n",
            "Epoch 9/10\n",
            "60000/60000 [==============================] - 2s 36us/step - loss: 0.2743 - acc: 0.8993 - val_loss: 0.3861 - val_acc: 0.8750\n",
            "Epoch 10/10\n",
            "60000/60000 [==============================] - 2s 38us/step - loss: 0.2652 - acc: 0.9026 - val_loss: 0.3838 - val_acc: 0.8821\n",
            "Test loss: 0.3838243320584297\n",
            "Test accuracy: 0.8821\n"
          ],
          "name": "stdout"
        }
      ]
    },
    {
      "cell_type": "markdown",
      "metadata": {
        "id": "M0sWHm_uWN8X",
        "colab_type": "text"
      },
      "source": [
        "CIFAR10"
      ]
    },
    {
      "cell_type": "code",
      "metadata": {
        "id": "_x2DUWyuV7Yt",
        "colab_type": "code",
        "outputId": "db152518-e6d6-4fb2-b312-e4092c05b87d",
        "colab": {
          "base_uri": "https://localhost:8080/",
          "height": 517
        }
      },
      "source": [
        "from keras.datasets import cifar10\n",
        "(X_train, y_train), (X_test, y_test) = cifar10.load_data()\n",
        "\n",
        "#change shape from image to vector\n",
        "X_train = X_train.reshape(50000,32,32,3)\n",
        "X_test = X_test.reshape(10000,32,32,3)\n",
        "\n",
        "#preprocess\n",
        "X_train = X_train.astype('float32')\n",
        "X_test = X_test.astype('float32')\n",
        "X_train /= 255.0\n",
        "X_test /= 255.0\n",
        "\n",
        "#change labels from numeric to one hot encoded\n",
        "Y_train = to_categorical(y_train, 10)\n",
        "Y_test =  to_categorical(y_test, 10)\n",
        "\n",
        "adamax=keras.optimizers.Adamax(lr=0.002, beta_1=0.9, beta_2=0.999)\n",
        "\n",
        "\n",
        "# Build neural network\n",
        "model = models.Sequential()\n",
        "model.add(Conv2D(1024, (32, 32), padding=\"valid\", activation=keras.layers.ReLU(max_value=None, negative_slope=0.0, threshold=0.0), input_shape=X_train.shape[1:]))\n",
        "model.add(Flatten())\n",
        "model.add(Dense(512, activation=keras.layers.ReLU(max_value=None, negative_slope=0.0, threshold=0.0)\n",
        ", input_shape=(32 * 32,)))\n",
        "model.add(Dense(256, activation=keras.layers.ReLU(max_value=None, negative_slope=0.0, threshold=0.0)\n",
        "))\n",
        "model.add(Dense(10, activation='softmax'))\n",
        "\n",
        "# Compile model\n",
        "model.compile(optimizer='adamax',\n",
        "              loss='categorical_crossentropy',\n",
        "              metrics=['accuracy'])\n",
        "\n",
        "# Train model\n",
        "model.fit(X_train, Y_train,\n",
        "          batch_size=128,\n",
        "          epochs=10,\n",
        "          verbose=1,\n",
        "          validation_data=(X_test, Y_test))\n",
        "score = model.evaluate(X_test, Y_test, verbose=0)\n",
        "print('Test loss:', score[0])\n",
        "print('Test accuracy:', score[1])"
      ],
      "execution_count": 0,
      "outputs": [
        {
          "output_type": "stream",
          "text": [
            "Downloading data from https://www.cs.toronto.edu/~kriz/cifar-10-python.tar.gz\n",
            "170500096/170498071 [==============================] - 6s 0us/step\n"
          ],
          "name": "stdout"
        },
        {
          "output_type": "stream",
          "text": [
            "/usr/local/lib/python3.6/dist-packages/keras/activations.py:235: UserWarning: Do not pass a layer instance (such as ReLU) as the activation argument of another layer. Instead, advanced activation layers should be used just like any other layer in a model.\n",
            "  identifier=identifier.__class__.__name__))\n"
          ],
          "name": "stderr"
        },
        {
          "output_type": "stream",
          "text": [
            "Train on 50000 samples, validate on 10000 samples\n",
            "Epoch 1/10\n",
            "50000/50000 [==============================] - 5s 97us/step - loss: 1.9908 - acc: 0.2975 - val_loss: 1.7555 - val_acc: 0.3734\n",
            "Epoch 2/10\n",
            "50000/50000 [==============================] - 4s 70us/step - loss: 1.7055 - acc: 0.3900 - val_loss: 1.6288 - val_acc: 0.4232\n",
            "Epoch 3/10\n",
            "50000/50000 [==============================] - 4s 72us/step - loss: 1.6187 - acc: 0.4206 - val_loss: 1.6309 - val_acc: 0.4092\n",
            "Epoch 4/10\n",
            "50000/50000 [==============================] - 4s 72us/step - loss: 1.5593 - acc: 0.4456 - val_loss: 1.5984 - val_acc: 0.4278\n",
            "Epoch 5/10\n",
            "50000/50000 [==============================] - 4s 71us/step - loss: 1.5003 - acc: 0.4639 - val_loss: 1.4761 - val_acc: 0.4743\n",
            "Epoch 6/10\n",
            "50000/50000 [==============================] - 4s 75us/step - loss: 1.4548 - acc: 0.4801 - val_loss: 1.5046 - val_acc: 0.4597\n",
            "Epoch 7/10\n",
            "50000/50000 [==============================] - 4s 71us/step - loss: 1.4149 - acc: 0.4973 - val_loss: 1.4569 - val_acc: 0.4824\n",
            "Epoch 8/10\n",
            "50000/50000 [==============================] - 4s 74us/step - loss: 1.3780 - acc: 0.5104 - val_loss: 1.4096 - val_acc: 0.4941\n",
            "Epoch 9/10\n",
            "50000/50000 [==============================] - 4s 71us/step - loss: 1.3405 - acc: 0.5236 - val_loss: 1.4496 - val_acc: 0.4830\n",
            "Epoch 10/10\n",
            "50000/50000 [==============================] - 4s 74us/step - loss: 1.3030 - acc: 0.5358 - val_loss: 1.4052 - val_acc: 0.5059\n",
            "Test loss: 1.405172363090515\n",
            "Test accuracy: 0.5059\n"
          ],
          "name": "stdout"
        }
      ]
    },
    {
      "cell_type": "markdown",
      "metadata": {
        "id": "28VQlRjkWr8n",
        "colab_type": "text"
      },
      "source": [
        "CIFAR 100"
      ]
    },
    {
      "cell_type": "code",
      "metadata": {
        "id": "WZg2wK6vWrMO",
        "colab_type": "code",
        "outputId": "fb46e3b4-0e09-4289-c02d-d9b4dde2f153",
        "colab": {
          "base_uri": "https://localhost:8080/",
          "height": 517
        }
      },
      "source": [
        "import keras\n",
        "from keras import models\n",
        "from keras.layers import Dense, Dropout, Conv2D,Flatten\n",
        "from keras.utils import to_categorical\n",
        "from keras.datasets import cifar100\n",
        "from keras.utils.vis_utils import model_to_dot\n",
        "from IPython.display import SVG\n",
        "from keras.preprocessing.image import ImageDataGenerator\n",
        "from keras import optimizers\n",
        "\n",
        "#import dataset\n",
        "(X_train, y_train), (X_test, y_test) = cifar100.load_data()\n",
        "\n",
        "#change shape from image to vector\n",
        "X_train = X_train.reshape(50000,32,32,3)\n",
        "X_test = X_test.reshape(10000,32,32,3)\n",
        "\n",
        "#preprocess\n",
        "X_train = X_train.astype('float32')\n",
        "X_test = X_test.astype('float32')\n",
        "X_train /= 255.0\n",
        "X_test /= 255.0\n",
        "\n",
        "#change labels from numeric to one hot encoded\n",
        "Y_train = to_categorical(y_train, 100)\n",
        "Y_test =  to_categorical(y_test, 100)\n",
        "model = models.Sequential()\n",
        "model.add(Conv2D(1024, (32, 32), padding=\"valid\", activation=keras.layers.ReLU(max_value=None, negative_slope=0.0, threshold=0.0), input_shape=X_train.shape[1:]))\n",
        "model.add(Flatten())\n",
        "model.add(Dense(512, activation=keras.layers.ReLU(max_value=None, negative_slope=0.0, threshold=0.0)\n",
        ", input_shape=(32 * 32,)))\n",
        "model.add(Dense(256, activation=keras.layers.ReLU(max_value=None, negative_slope=0.0, threshold=0.0)\n",
        "))\n",
        "model.add(Dense(100, activation='softmax'))\n",
        "\n",
        "# Compile model\n",
        "model.compile(optimizer='adamax',\n",
        "              loss='categorical_crossentropy',\n",
        "              metrics=['accuracy'])\n",
        "\n",
        "# Train model\n",
        "model.fit(X_train, Y_train,\n",
        "          batch_size=128,\n",
        "          epochs=10,\n",
        "          verbose=1,\n",
        "          validation_data=(X_test, Y_test))\n",
        "score = model.evaluate(X_test, Y_test, verbose=0)\n",
        "print('Test loss:', score[0])\n",
        "print('Test accuracy:', score[1])"
      ],
      "execution_count": 0,
      "outputs": [
        {
          "output_type": "stream",
          "text": [
            "Downloading data from https://www.cs.toronto.edu/~kriz/cifar-100-python.tar.gz\n",
            "169009152/169001437 [==============================] - 6s 0us/step\n"
          ],
          "name": "stdout"
        },
        {
          "output_type": "stream",
          "text": [
            "/usr/local/lib/python3.6/dist-packages/keras/activations.py:235: UserWarning: Do not pass a layer instance (such as ReLU) as the activation argument of another layer. Instead, advanced activation layers should be used just like any other layer in a model.\n",
            "  identifier=identifier.__class__.__name__))\n"
          ],
          "name": "stderr"
        },
        {
          "output_type": "stream",
          "text": [
            "Train on 50000 samples, validate on 10000 samples\n",
            "Epoch 1/10\n",
            "50000/50000 [==============================] - 5s 95us/step - loss: 4.2155 - acc: 0.0608 - val_loss: 3.9487 - val_acc: 0.0903\n",
            "Epoch 2/10\n",
            "50000/50000 [==============================] - 3s 69us/step - loss: 3.7806 - acc: 0.1227 - val_loss: 3.7006 - val_acc: 0.1372\n",
            "Epoch 3/10\n",
            "50000/50000 [==============================] - 4s 73us/step - loss: 3.5943 - acc: 0.1560 - val_loss: 3.5812 - val_acc: 0.1615\n",
            "Epoch 4/10\n",
            "50000/50000 [==============================] - 4s 73us/step - loss: 3.4608 - acc: 0.1783 - val_loss: 3.4682 - val_acc: 0.1834\n",
            "Epoch 5/10\n",
            "50000/50000 [==============================] - 4s 70us/step - loss: 3.3537 - acc: 0.1984 - val_loss: 3.4027 - val_acc: 0.1950\n",
            "Epoch 6/10\n",
            "50000/50000 [==============================] - 4s 72us/step - loss: 3.2484 - acc: 0.2161 - val_loss: 3.3721 - val_acc: 0.2016\n",
            "Epoch 7/10\n",
            "50000/50000 [==============================] - 4s 72us/step - loss: 3.1656 - acc: 0.2320 - val_loss: 3.2798 - val_acc: 0.2189\n",
            "Epoch 8/10\n",
            "50000/50000 [==============================] - 4s 74us/step - loss: 3.0895 - acc: 0.2446 - val_loss: 3.3165 - val_acc: 0.2123\n",
            "Epoch 9/10\n",
            "50000/50000 [==============================] - 4s 73us/step - loss: 3.0218 - acc: 0.2585 - val_loss: 3.2458 - val_acc: 0.2268\n",
            "Epoch 10/10\n",
            "50000/50000 [==============================] - 4s 73us/step - loss: 2.9470 - acc: 0.2715 - val_loss: 3.2025 - val_acc: 0.2343\n",
            "Test loss: 3.2024608810424806\n",
            "Test accuracy: 0.2343\n"
          ],
          "name": "stdout"
        }
      ]
    }
  ]
}